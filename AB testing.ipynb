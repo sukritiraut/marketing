{
 "cells": [
  {
   "attachments": {},
   "cell_type": "markdown",
   "id": "3ea0e9f5",
   "metadata": {},
   "source": [
    "**A/B testing**\n",
    "\n"
   ]
  },
  {
   "cell_type": "markdown",
   "id": "278e0c84",
   "metadata": {},
   "source": [
    "*Inspired from work by Elea McDonnell Feit, Professor at Drexel University*"
   ]
  },
  {
   "cell_type": "code",
   "execution_count": 15,
   "id": "d68cc7e1",
   "metadata": {},
   "outputs": [
    {
     "data": {
      "text/html": [
       "<table>\n",
       "<thead><tr><th scope=col>user_id</th><th scope=col>cpgn_id</th><th scope=col>group</th><th scope=col>email</th><th scope=col>open</th><th scope=col>click</th><th scope=col>purch</th><th scope=col>chard</th><th scope=col>sav_blanc</th><th scope=col>syrah</th><th scope=col>cab</th><th scope=col>past_purch</th><th scope=col>days_since</th><th scope=col>visits</th></tr></thead>\n",
       "<tbody>\n",
       "\t<tr><td>1000001  </td><td>1901Email</td><td>ctrl     </td><td>FALSE    </td><td>0        </td><td>0        </td><td>  0.00   </td><td>  0.00   </td><td>   0.00  </td><td>33.94    </td><td> 0.00    </td><td>  33.94  </td><td>119      </td><td>11       </td></tr>\n",
       "\t<tr><td>1000002  </td><td>1901Email</td><td>email_B  </td><td> TRUE    </td><td>1        </td><td>0        </td><td>  0.00   </td><td>  0.00   </td><td>   0.00  </td><td>16.23    </td><td>76.31    </td><td>  92.54  </td><td> 60      </td><td> 3       </td></tr>\n",
       "\t<tr><td>1000003  </td><td>1901Email</td><td>email_A  </td><td> TRUE    </td><td>1        </td><td>1        </td><td>200.51   </td><td>516.39   </td><td>   0.00  </td><td>16.63    </td><td> 0.00    </td><td> 533.02  </td><td>  9      </td><td> 9       </td></tr>\n",
       "\t<tr><td>1000004  </td><td>1901Email</td><td>email_A  </td><td> TRUE    </td><td>1        </td><td>0        </td><td>  0.00   </td><td>  0.00   </td><td>   0.00  </td><td> 0.00    </td><td>41.21    </td><td>  41.21  </td><td>195      </td><td> 6       </td></tr>\n",
       "\t<tr><td>1000005  </td><td>1901Email</td><td>email_A  </td><td> TRUE    </td><td>1        </td><td>1        </td><td>158.30   </td><td>426.53   </td><td>1222.48  </td><td> 0.00    </td><td> 0.00    </td><td>1649.01  </td><td> 48      </td><td> 9       </td></tr>\n",
       "\t<tr><td>1000006  </td><td>1901Email</td><td>email_B  </td><td> TRUE    </td><td>1        </td><td>0        </td><td>  0.00   </td><td>  0.00   </td><td>   0.00  </td><td> 0.00    </td><td> 0.00    </td><td>   0.00  </td><td>149      </td><td> 6       </td></tr>\n",
       "</tbody>\n",
       "</table>\n"
      ],
      "text/latex": [
       "\\begin{tabular}{r|llllllllllllll}\n",
       " user\\_id & cpgn\\_id & group & email & open & click & purch & chard & sav\\_blanc & syrah & cab & past\\_purch & days\\_since & visits\\\\\n",
       "\\hline\n",
       "\t 1000001   & 1901Email & ctrl      & FALSE     & 0         & 0         &   0.00    &   0.00    &    0.00   & 33.94     &  0.00     &   33.94   & 119       & 11       \\\\\n",
       "\t 1000002   & 1901Email & email\\_B &  TRUE     & 1         & 0         &   0.00    &   0.00    &    0.00   & 16.23     & 76.31     &   92.54   &  60       &  3       \\\\\n",
       "\t 1000003   & 1901Email & email\\_A &  TRUE     & 1         & 1         & 200.51    & 516.39    &    0.00   & 16.63     &  0.00     &  533.02   &   9       &  9       \\\\\n",
       "\t 1000004   & 1901Email & email\\_A &  TRUE     & 1         & 0         &   0.00    &   0.00    &    0.00   &  0.00     & 41.21     &   41.21   & 195       &  6       \\\\\n",
       "\t 1000005   & 1901Email & email\\_A &  TRUE     & 1         & 1         & 158.30    & 426.53    & 1222.48   &  0.00     &  0.00     & 1649.01   &  48       &  9       \\\\\n",
       "\t 1000006   & 1901Email & email\\_B &  TRUE     & 1         & 0         &   0.00    &   0.00    &    0.00   &  0.00     &  0.00     &    0.00   & 149       &  6       \\\\\n",
       "\\end{tabular}\n"
      ],
      "text/markdown": [
       "\n",
       "| user_id | cpgn_id | group | email | open | click | purch | chard | sav_blanc | syrah | cab | past_purch | days_since | visits |\n",
       "|---|---|---|---|---|---|---|---|---|---|---|---|---|---|\n",
       "| 1000001   | 1901Email | ctrl      | FALSE     | 0         | 0         |   0.00    |   0.00    |    0.00   | 33.94     |  0.00     |   33.94   | 119       | 11        |\n",
       "| 1000002   | 1901Email | email_B   |  TRUE     | 1         | 0         |   0.00    |   0.00    |    0.00   | 16.23     | 76.31     |   92.54   |  60       |  3        |\n",
       "| 1000003   | 1901Email | email_A   |  TRUE     | 1         | 1         | 200.51    | 516.39    |    0.00   | 16.63     |  0.00     |  533.02   |   9       |  9        |\n",
       "| 1000004   | 1901Email | email_A   |  TRUE     | 1         | 0         |   0.00    |   0.00    |    0.00   |  0.00     | 41.21     |   41.21   | 195       |  6        |\n",
       "| 1000005   | 1901Email | email_A   |  TRUE     | 1         | 1         | 158.30    | 426.53    | 1222.48   |  0.00     |  0.00     | 1649.01   |  48       |  9        |\n",
       "| 1000006   | 1901Email | email_B   |  TRUE     | 1         | 0         |   0.00    |   0.00    |    0.00   |  0.00     |  0.00     |    0.00   | 149       |  6        |\n",
       "\n"
      ],
      "text/plain": [
       "  user_id cpgn_id   group   email open click purch  chard  sav_blanc syrah\n",
       "1 1000001 1901Email ctrl    FALSE 0    0       0.00   0.00    0.00   33.94\n",
       "2 1000002 1901Email email_B  TRUE 1    0       0.00   0.00    0.00   16.23\n",
       "3 1000003 1901Email email_A  TRUE 1    1     200.51 516.39    0.00   16.63\n",
       "4 1000004 1901Email email_A  TRUE 1    0       0.00   0.00    0.00    0.00\n",
       "5 1000005 1901Email email_A  TRUE 1    1     158.30 426.53 1222.48    0.00\n",
       "6 1000006 1901Email email_B  TRUE 1    0       0.00   0.00    0.00    0.00\n",
       "  cab   past_purch days_since visits\n",
       "1  0.00   33.94    119        11    \n",
       "2 76.31   92.54     60         3    \n",
       "3  0.00  533.02      9         9    \n",
       "4 41.21   41.21    195         6    \n",
       "5  0.00 1649.01     48         9    \n",
       "6  0.00    0.00    149         6    "
      ]
     },
     "metadata": {},
     "output_type": "display_data"
    }
   ],
   "source": [
    "# Advanced AB Testing\n",
    "\n",
    "## Load libraries\n",
    "library(tidyverse)\n",
    "library(ggplot2)\n",
    "\n",
    "# Test data\n",
    "d <- read.csv(\"test_data.csv\")\n",
    "head(d)"
   ]
  },
  {
   "cell_type": "code",
   "execution_count": 16,
   "id": "61d3a580",
   "metadata": {},
   "outputs": [
    {
     "data": {
      "text/html": [
       "<table>\n",
       "<thead><tr><th scope=col>group</th><th scope=col>mean_days_since</th><th scope=col>mean_visits</th><th scope=col>mean_past_purch</th></tr></thead>\n",
       "<tbody>\n",
       "\t<tr><td>ctrl    </td><td>89.97907</td><td>5.948536</td><td>188.2670</td></tr>\n",
       "\t<tr><td>email_A </td><td>90.16635</td><td>5.945147</td><td>188.4494</td></tr>\n",
       "\t<tr><td>email_B </td><td>89.80846</td><td>5.943478</td><td>189.6635</td></tr>\n",
       "</tbody>\n",
       "</table>\n"
      ],
      "text/latex": [
       "\\begin{tabular}{r|llll}\n",
       " group & mean\\_days\\_since & mean\\_visits & mean\\_past\\_purch\\\\\n",
       "\\hline\n",
       "\t ctrl     & 89.97907 & 5.948536 & 188.2670\\\\\n",
       "\t email\\_A & 90.16635  & 5.945147  & 188.4494 \\\\\n",
       "\t email\\_B & 89.80846  & 5.943478  & 189.6635 \\\\\n",
       "\\end{tabular}\n"
      ],
      "text/markdown": [
       "\n",
       "| group | mean_days_since | mean_visits | mean_past_purch |\n",
       "|---|---|---|---|\n",
       "| ctrl     | 89.97907 | 5.948536 | 188.2670 |\n",
       "| email_A  | 90.16635 | 5.945147 | 188.4494 |\n",
       "| email_B  | 89.80846 | 5.943478 | 189.6635 |\n",
       "\n"
      ],
      "text/plain": [
       "  group   mean_days_since mean_visits mean_past_purch\n",
       "1 ctrl    89.97907        5.948536    188.2670       \n",
       "2 email_A 90.16635        5.945147    188.4494       \n",
       "3 email_B 89.80846        5.943478    189.6635       "
      ]
     },
     "metadata": {},
     "output_type": "display_data"
    }
   ],
   "source": [
    "# Randomization checks\n",
    "baseline_check <- d %>%\n",
    "  group_by(group) %>%\n",
    "  summarize(\n",
    "    mean_days_since = mean(days_since),\n",
    "    mean_visits = mean(visits),\n",
    "    mean_past_purch = mean(past_purch)\n",
    "  )\n",
    "baseline_check"
   ]
  },
  {
   "cell_type": "markdown",
   "id": "e376d8e5",
   "metadata": {},
   "source": [
    "**Baseline variables are distributed similarly for the treatment and control groups.**"
   ]
  },
  {
   "cell_type": "code",
   "execution_count": 17,
   "id": "1d5eff05",
   "metadata": {},
   "outputs": [
    {
     "name": "stderr",
     "output_type": "stream",
     "text": [
      "Warning message:\n",
      "\"Removed 451 rows containing non-finite values (stat_bin).\"Warning message:\n",
      "\"Removed 6 rows containing missing values (geom_bar).\""
     ]
    },
    {
     "data": {
      "image/png": "[encoded data removed]",
      "text/plain": [
       "plot without title"
      ]
     },
     "metadata": {},
     "output_type": "display_data"
    }
   ],
   "source": [
    "# Visualization: Distribution of past purchases by treatment group\n",
    "past_purchases_plot <- d %>%\n",
    "  filter(past_purch > 0) %>%\n",
    "  ggplot(aes(x = past_purch, fill = group)) + \n",
    "  geom_histogram(binwidth = 25, alpha = 0.2, position = \"identity\") +\n",
    "  xlim(0, 2000) + \n",
    "  xlab(\"Past Purchases ($)\") + ylab(\"Customers\") + \n",
    "  labs(title = \"Distribution of past purchases by treatment group\")\n",
    "past_purchases_plot"
   ]
  },
  {
   "cell_type": "markdown",
   "id": "302b2b50",
   "metadata": {},
   "source": [
    "**Distributions of baseline variables should also be the same between treatment groups.**"
   ]
  },
  {
   "cell_type": "code",
   "execution_count": 23,
   "id": "c6435a38",
   "metadata": {},
   "outputs": [
    {
     "name": "stderr",
     "output_type": "stream",
     "text": [
      "Warning message:\n",
      "\"Removed 2 rows containing non-finite values (stat_bin).\"Warning message:\n",
      "\"Removed 6 rows containing missing values (geom_bar).\""
     ]
    },
    {
     "data": {
      "image/png": "[encoded data removed]",
      "text/plain": [
       "plot without title"
      ]
     },
     "metadata": {},
     "output_type": "display_data"
    }
   ],
   "source": [
    "d %>% filter(visits > 0) %>% \n",
    "ggplot(aes(x=visits, fill=group)) + \n",
    "  geom_histogram(binwidth = 1, alpha=0.2, position=\"identity\") +\n",
    "  xlim(0, 50) + \n",
    "  xlab(\"Days Since Last Activity\") + ylab(\"Customers\") + \n",
    "  labs(title=\"Distribution of website visits by treatment group\")"
   ]
  },
  {
   "cell_type": "code",
   "execution_count": 4,
   "id": "2153aeca",
   "metadata": {},
   "outputs": [
    {
     "data": {
      "text/html": [
       "<table>\n",
       "<thead><tr><th scope=col>group</th><th scope=col>mean_open</th><th scope=col>mean_click</th><th scope=col>mean_purch</th></tr></thead>\n",
       "<tbody>\n",
       "\t<tr><td>ctrl      </td><td>0.0000000 </td><td>0.00000000</td><td>12.42029  </td></tr>\n",
       "\t<tr><td>email_A   </td><td>0.7182850 </td><td>0.13167509</td><td>25.62284  </td></tr>\n",
       "\t<tr><td>email_B   </td><td>0.6516974 </td><td>0.09342108</td><td>25.86629  </td></tr>\n",
       "</tbody>\n",
       "</table>\n"
      ],
      "text/latex": [
       "\\begin{tabular}{r|llll}\n",
       " group & mean\\_open & mean\\_click & mean\\_purch\\\\\n",
       "\\hline\n",
       "\t ctrl       & 0.0000000  & 0.00000000 & 12.42029  \\\\\n",
       "\t email\\_A  & 0.7182850  & 0.13167509 & 25.62284  \\\\\n",
       "\t email\\_B  & 0.6516974  & 0.09342108 & 25.86629  \\\\\n",
       "\\end{tabular}\n"
      ],
      "text/markdown": [
       "\n",
       "| group | mean_open | mean_click | mean_purch |\n",
       "|---|---|---|---|\n",
       "| ctrl       | 0.0000000  | 0.00000000 | 12.42029   |\n",
       "| email_A    | 0.7182850  | 0.13167509 | 25.62284   |\n",
       "| email_B    | 0.6516974  | 0.09342108 | 25.86629   |\n",
       "\n"
      ],
      "text/plain": [
       "  group   mean_open mean_click mean_purch\n",
       "1 ctrl    0.0000000 0.00000000 12.42029  \n",
       "2 email_A 0.7182850 0.13167509 25.62284  \n",
       "3 email_B 0.6516974 0.09342108 25.86629  "
      ]
     },
     "metadata": {},
     "output_type": "display_data"
    }
   ],
   "source": [
    "# Randomization checks out! On to the treatment effects.\n",
    "# Did the treatments affect the responses?\n",
    "response_summary <- d %>%\n",
    "  group_by(group) %>%\n",
    "  summarize(\n",
    "    mean_open = mean(open),\n",
    "    mean_click = mean(click),\n",
    "    mean_purch = mean(purch)\n",
    "  )\n",
    "response_summary"
   ]
  },
  {
   "cell_type": "markdown",
   "id": "33d953d9",
   "metadata": {},
   "source": [
    "**Email A looks better for opens and clicks, but maybe not purchases. Both emails seem to generate higher average purchases than the control.**"
   ]
  },
  {
   "cell_type": "code",
   "execution_count": 5,
   "id": "2fd1db13",
   "metadata": {},
   "outputs": [
    {
     "data": {
      "image/png": "[encoded data removed]",
      "text/plain": [
       "plot without title"
      ]
     },
     "metadata": {},
     "output_type": "display_data"
    }
   ],
   "source": [
    "# Visualization: barplot of clicks and opens for emails A & B\n",
    "response_plot <- d %>%\n",
    "  filter(group != \"ctrl\") %>%\n",
    "  group_by(group) %>%\n",
    "  summarize(open = mean(open), click = mean(click)) %>%\n",
    "  gather(response, mean, -group) %>%\n",
    "  ggplot(aes(fill = response, y = mean, x = group)) + \n",
    "  geom_bar(position = \"dodge\", stat = \"identity\") + \n",
    "  ylab(\"Response Rate\") + xlab(\"\")\n",
    "response_plot\n"
   ]
  },
  {
   "cell_type": "code",
   "execution_count": 6,
   "id": "93dcca5b",
   "metadata": {},
   "outputs": [
    {
     "data": {
      "text/plain": [
       "\n",
       "\tWelch Two Sample t-test\n",
       "\n",
       "data:  purch by group\n",
       "t = -0.59169, df = 82644, p-value = 0.5541\n",
       "alternative hypothesis: true difference in means is not equal to 0\n",
       "95 percent confidence interval:\n",
       " -1.0498820  0.5629813\n",
       "sample estimates:\n",
       "mean in group email_A mean in group email_B \n",
       "             25.62284              25.86629 \n"
      ]
     },
     "metadata": {},
     "output_type": "display_data"
    }
   ],
   "source": [
    "# Test significance with a t-test\n",
    "t_test_result <- t.test(purch ~ group, data = d[d$group != \"ctrl\",])\n",
    "t_test_result"
   ]
  },
  {
   "cell_type": "markdown",
   "id": "5724dbd7",
   "metadata": {},
   "source": [
    "# Summary of findings\n",
    "**Email A has significantly higher opens and clicks than email B, but purchases are similar for both emails.**\n",
    "**Both emails generate higher average purchases than the control.**\n"
   ]
  },
  {
   "cell_type": "markdown",
   "id": "a1539e5a",
   "metadata": {},
   "source": [
    "**Sample Size Planning to achieve the specified power given the effect size, standard deviation, and desired level of significance.**"
   ]
  },
  {
   "cell_type": "code",
   "execution_count": 29,
   "id": "f1371db6",
   "metadata": {},
   "outputs": [
    {
     "data": {
      "text/plain": [
       "\n",
       "     Two-sample t test power calculation \n",
       "\n",
       "              n = 4916.513\n",
       "          delta = 1\n",
       "             sd = 54.82613\n",
       "      sig.level = 0.95\n",
       "          power = 0.8\n",
       "    alternative = two.sided\n",
       "\n",
       "NOTE: n is number in *each* group\n"
      ]
     },
     "metadata": {},
     "output_type": "display_data"
    }
   ],
   "source": [
    "power.t.test(sd=sd(d$purch), delta=1, sig.level=0.95, power=0.80)"
   ]
  },
  {
   "cell_type": "markdown",
   "id": "be6776a2",
   "metadata": {},
   "source": [
    "**To detect a difference of 1 unit in the mean between the two groups with a standard deviation of approximately 54.83 and a power of 80%, you would need approximately 4917 observations in each group.**"
   ]
  },
  {
   "cell_type": "markdown",
   "id": "42967ff5",
   "metadata": {},
   "source": [
    "**Sample size calculation required for a proportion-based A/B test** "
   ]
  },
  {
   "cell_type": "code",
   "execution_count": 30,
   "id": "082854fa",
   "metadata": {},
   "outputs": [
    {
     "data": {
      "text/plain": [
       "\n",
       "     Two-sample comparison of proportions power calculation \n",
       "\n",
       "              n = 10889.14\n",
       "             p1 = 0.07\n",
       "             p2 = 0.08\n",
       "      sig.level = 0.05\n",
       "          power = 0.8\n",
       "    alternative = two.sided\n",
       "\n",
       "NOTE: n is number in *each* group\n"
      ]
     },
     "metadata": {},
     "output_type": "display_data"
    }
   ],
   "source": [
    "# Sample size calculator\n",
    "power.prop.test(p1=0.07, p2=0.07 + 0.01, sig.level=0.05, power=0.80)"
   ]
  },
  {
   "cell_type": "markdown",
   "id": "b9367089",
   "metadata": {},
   "source": [
    "**To detect a difference of 1% in the conversion rates between the two groups with a baseline conversion rate of 7% in the control group and an expected conversion rate of 8% in the treatment group, we would need approximately 10889.14 observations in each group to achieve a power of 0.8 with a significance level of 0.05.**"
   ]
  }
 ],
 "metadata": {
  "kernelspec": {
   "display_name": "R",
   "language": "R",
   "name": "ir"
  },
  "language_info": {
   "codemirror_mode": "r",
   "file_extension": ".r",
   "mimetype": "text/x-r-source",
   "name": "R",
   "pygments_lexer": "r",
   "version": "3.6.1"
  }
 },
 "nbformat": 4,
 "nbformat_minor": 5
}
